{
 "cells": [
  {
   "cell_type": "code",
   "execution_count": 1,
   "metadata": {},
   "outputs": [
    {
     "name": "stdout",
     "output_type": "stream",
     "text": [
      "Downloading https://www.cs.toronto.edu/~kriz/cifar-10-python.tar.gz to ./data\\cifar-10-python.tar.gz\n"
     ]
    },
    {
     "name": "stderr",
     "output_type": "stream",
     "text": [
      "100%|██████████| 170498071/170498071 [00:11<00:00, 14573946.69it/s]\n"
     ]
    },
    {
     "name": "stdout",
     "output_type": "stream",
     "text": [
      "Extracting ./data\\cifar-10-python.tar.gz to ./data\n",
      "Mean: [0.49139968 0.48215842 0.44653103]\n",
      "Std: [0.24698609 0.24344449 0.26152948]\n"
     ]
    }
   ],
   "source": [
    "import torch\n",
    "import torchvision\n",
    "import torchvision.transforms as transforms\n",
    "\n",
    "\n",
    "dataset = torchvision.datasets.CIFAR10(root='./data', \n",
    "                                       train=True, \n",
    "                                       download=True, \n",
    "                                       transform=transforms.ToTensor())\n",
    "\n",
    "dataloader = torch.utils.data.DataLoader(dataset, batch_size=1000, shuffle=False)\n",
    "\n",
    "mean = 0.0\n",
    "std = 0.0\n",
    "num_batches = 0\n",
    "\n",
    "for images, _ in dataloader:\n",
    "    batch_samples = images.size(0) \n",
    "    images = images.view(batch_samples, 3, -1)  \n",
    "    mean += images.mean(dim=[0, 2])  \n",
    "    std += images.std(dim=[0, 2]) \n",
    "    num_batches += 1\n",
    "\n",
    "mean /= num_batches\n",
    "std /= num_batches\n",
    "\n",
    "print(f\"Mean: {mean.numpy()}\")  \n",
    "print(f\"Std: {std.numpy()}\")  \n",
    "\n"
   ]
  }
 ],
 "metadata": {
  "kernelspec": {
   "display_name": "base",
   "language": "python",
   "name": "python3"
  },
  "language_info": {
   "codemirror_mode": {
    "name": "ipython",
    "version": 3
   },
   "file_extension": ".py",
   "mimetype": "text/x-python",
   "name": "python",
   "nbconvert_exporter": "python",
   "pygments_lexer": "ipython3",
   "version": "3.12.3"
  }
 },
 "nbformat": 4,
 "nbformat_minor": 2
}
